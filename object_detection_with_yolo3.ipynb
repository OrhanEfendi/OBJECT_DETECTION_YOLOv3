{
  "nbformat": 4,
  "nbformat_minor": 0,
  "metadata": {
    "colab": {
      "provenance": []
    },
    "kernelspec": {
      "name": "python3",
      "display_name": "Python 3"
    },
    "language_info": {
      "name": "python"
    }
  },
  "cells": [
    {
      "cell_type": "markdown",
      "source": [
        "**DOWNLOAD LIBRARY**"
      ],
      "metadata": {
        "id": "BfJE6x_fRwH8"
      }
    },
    {
      "cell_type": "code",
      "execution_count": 2,
      "metadata": {
        "id": "w2Yq5WOVPwKm"
      },
      "outputs": [],
      "source": [
        "import cv2\n",
        "import numpy as np"
      ]
    },
    {
      "cell_type": "markdown",
      "source": [
        "**DOWNLOAD** **IMAGE**"
      ],
      "metadata": {
        "id": "I7HXh32yQERs"
      }
    },
    {
      "cell_type": "code",
      "source": [
        "img = cv2.imread(\"/content/pexels-andrea-piacquadio-2672979.jpg\")\n",
        "img= cv2.resize(img, (640, 427))"
      ],
      "metadata": {
        "id": "BqtIfWjvP5gt"
      },
      "execution_count": 4,
      "outputs": []
    },
    {
      "cell_type": "markdown",
      "source": [
        "**FIND** **SHAPE**"
      ],
      "metadata": {
        "id": "YXCNTxtsQKon"
      }
    },
    {
      "cell_type": "code",
      "source": [
        "img_width = img.shape[1]\n",
        "img_height = img.shape[0]"
      ],
      "metadata": {
        "id": "R7YHrygEP_sH"
      },
      "execution_count": null,
      "outputs": []
    },
    {
      "cell_type": "markdown",
      "source": [
        "**Blob images converted to 4-dimensional tensors**.**swampRB=(BGRTORGB)**"
      ],
      "metadata": {
        "id": "jRHjy-MSQPG8"
      }
    },
    {
      "cell_type": "code",
      "source": [
        "img_blob = cv2.dnn.blobFromImage(img, 1/255, (416, 416), swapRB=True, crop=False)"
      ],
      "metadata": {
        "id": "ZSRgiwv_QNlg"
      },
      "execution_count": null,
      "outputs": []
    },
    {
      "cell_type": "markdown",
      "source": [
        "**YOLOv3 labels_name**"
      ],
      "metadata": {
        "id": "ssL-zTg0Qhxt"
      }
    },
    {
      "cell_type": "code",
      "source": [
        "labels = [\"person\",\"bicycle\",\"car\",\"motorcycle\",\"airplane\",\"bus\",\"train\",\"truck\",\"boat\",\n",
        "           \"trafficlight\",\"firehydrant\",\"stopsign\",\"parkingmeter\",\"bench\",\"bird\",\"cat\",\n",
        "           \"dog\",\"horse\",\"sheep\",\"cow\",\"elephant\",\"bear\",\"zebra\",\"giraffe\",\"backpack\",\n",
        "           \"umbrella\",\"handbag\",\"tie\",\"suitcase\",\"frisbee\",\"skis\",\"snowboard\",\"sportsball\",\n",
        "           \"kite\",\"baseballbat\",\"baseballglove\",\"skateboard\",\"surfboard\",\"tennisracket\",\n",
        "           \"bottle\",\"wineglass\",\"cup\",\"fork\",\"knife\",\"spoon\",\"bowl\",\"banana\",\"apple\",\n",
        "           \"sandwich\",\"orange\",\"broccoli\",\"carrot\",\"hotdog\",\"pizza\",\"donut\",\"cake\",\"chair\",\n",
        "           \"sofa\",\"pottedplant\",\"bed\",\"diningtable\",\"toilet\",\"tvmonitor\",\"laptop\",\"mouse\",\n",
        "           \"remote\",\"keyboard\",\"cellphone\",\"microwave\",\"oven\",\"toaster\",\"sink\",\"refrigerator\",\n",
        "           \"book\",\"clock\",\"vase\",\"scissors\",\"teddybear\",\"hairdrier\",\"toothbrush\"]"
      ],
      "metadata": {
        "id": "mXheyvVAQgvN"
      },
      "execution_count": null,
      "outputs": []
    },
    {
      "cell_type": "markdown",
      "source": [
        "**Choose colors for labels**"
      ],
      "metadata": {
        "id": "8EV-KJu-Q1Da"
      }
    },
    {
      "cell_type": "code",
      "source": [
        "colors = [\"0,255,250\", \"255,0,255\", \"121,120,255\", \"0,50,250\", \"70, 80, 255\"]\n",
        "colors = [np.array(color.split(\",\")).astype(\"int\") for color in colors ]\n",
        "colors = np.array(colors)\n",
        "colors = np.tile(colors, (18,1))"
      ],
      "metadata": {
        "id": "GEYan12hQzDr"
      },
      "execution_count": null,
      "outputs": []
    },
    {
      "cell_type": "code",
      "source": [],
      "metadata": {
        "id": "JI9R-6goRMB8"
      },
      "execution_count": null,
      "outputs": []
    },
    {
      "cell_type": "markdown",
      "source": [
        "**Cfg and Weight for model**"
      ],
      "metadata": {
        "id": "ryo327gSRPUo"
      }
    },
    {
      "cell_type": "code",
      "source": [
        "model = cv2.dnn.readNetFromDarknet(\"/content/yolov3.cfg\",\"/content/yolov3.weights\")"
      ],
      "metadata": {
        "id": "MdkMxL0XQ-KO"
      },
      "execution_count": null,
      "outputs": []
    },
    {
      "cell_type": "code",
      "source": [
        "layers = model.getLayerNames()"
      ],
      "metadata": {
        "id": "MZidKRubRc03"
      },
      "execution_count": null,
      "outputs": []
    },
    {
      "cell_type": "code",
      "source": [
        "output_layer = [layers[layer-1] for layer in model.getUnconnectedOutLayers()]"
      ],
      "metadata": {
        "id": "EKYO1PfbRd8W"
      },
      "execution_count": null,
      "outputs": []
    },
    {
      "cell_type": "code",
      "source": [
        "model.setInput(img_blob)"
      ],
      "metadata": {
        "id": "vIQflQ6rRe3F"
      },
      "execution_count": null,
      "outputs": []
    },
    {
      "cell_type": "code",
      "source": [
        "detection_layers = model.forward(output_layer)"
      ],
      "metadata": {
        "id": "GiEjNBd1RgJa"
      },
      "execution_count": null,
      "outputs": []
    },
    {
      "cell_type": "code",
      "source": [
        "for detection_layer in detection_layers:\n",
        "    for object_detection in detection_layer:\n",
        "        scores = object_detection[5:]\n",
        "        predict_id = np.argmax(scores)\n",
        "        confidence = scores[predict_id]\n",
        "        if confidence > 0.60:\n",
        "            label = labels[predict_id]\n",
        "            bounding_box = object_detection[0:4] * np.array([img_width, img_height, img_width, img_height])\n",
        "            (box_centre_x, box_centre_y, box_centre_witdh, box_centre_height) = bounding_box.astype(\"int\")\n",
        "            start_x = int(box_centre_x-(box_centre_witdh/2))\n",
        "            start_y = int(box_centre_y - (box_centre_height/2))\n",
        "            end_x = int(box_centre_x + (box_centre_witdh / 2))\n",
        "            end_y = int(box_centre_y + (box_centre_height / 2))\n",
        "\n",
        "            box_color = colors[predict_id]\n",
        "            box_color = [int(each) for each in box_color]\n",
        "\n",
        "            label = \"{}: {:.2f}%\".format(label, confidence*100)\n",
        "            print(\"predicted object {}\".format(label))\n",
        "\n",
        "            cv2.rectangle(img, (start_x,start_y), (end_x,end_y),box_color,1)\n",
        "            cv2.putText(img, label, (start_x, start_y-10), cv2.FONT_HERSHEY_SIMPLEX, 0.5, box_color,1)\n",
        "cv2.imshow(\"Image\", img)\n",
        "cv2.waitKey(0)\n",
        "cv2.destroyAllWindows()            "
      ],
      "metadata": {
        "id": "luPS3OOBRh_3"
      },
      "execution_count": null,
      "outputs": []
    },
    {
      "cell_type": "code",
      "source": [],
      "metadata": {
        "id": "Y1g9f3ERRmll"
      },
      "execution_count": null,
      "outputs": []
    }
  ]
}